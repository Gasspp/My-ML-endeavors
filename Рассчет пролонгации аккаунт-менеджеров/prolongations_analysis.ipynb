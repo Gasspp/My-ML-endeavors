{
 "cells": [
  {
   "cell_type": "code",
   "execution_count": 184,
   "id": "2d0ef964",
   "metadata": {},
   "outputs": [],
   "source": [
    "import pandas as pd\n",
    "import numpy as np"
   ]
  },
  {
   "cell_type": "code",
   "execution_count": 249,
   "id": "a600d618",
   "metadata": {},
   "outputs": [],
   "source": [
    "prolong_df = pd.read_csv('prolongations.csv')\n",
    "financial_df = pd.read_csv('financial_data.csv')"
   ]
  },
  {
   "cell_type": "code",
   "execution_count": 250,
   "id": "c5155c82",
   "metadata": {},
   "outputs": [],
   "source": [
    "# Все колонки, которые соответствуют месяцам, без служебных полей\n",
    "shipment_cols = [c for c in financial_df.columns if c not in ['id', 'Причина дубля', 'Account']]"
   ]
  },
  {
   "cell_type": "code",
   "execution_count": 251,
   "id": "1a7b0541",
   "metadata": {},
   "outputs": [],
   "source": [
    "prolong_df['month'] = prolong_df['month'].str.capitalize()"
   ]
  },
  {
   "cell_type": "code",
   "execution_count": 252,
   "id": "7188d0eb",
   "metadata": {},
   "outputs": [],
   "source": [
    "# Все id проектов, у которых присутствует \"стоп\" или \"end\" в последний месяц или ранее\n",
    "bad_id_mask = []\n",
    "for idx, row in financial_df.merge(prolong_df[['id','month']], on='id', how='right').iterrows():\n",
    "    cutoff = row['month']\n",
    "    check_months = shipment_cols[:shipment_cols.index(cutoff) + 1]\n",
    "    if any(str(row[c]).strip().lower() in ('стоп','end') for c in check_months):\n",
    "        bad_id_mask.append(row['id'])\n",
    "bad_ids = set(bad_id_mask)"
   ]
  },
  {
   "cell_type": "code",
   "execution_count": 253,
   "id": "793f078f",
   "metadata": {},
   "outputs": [],
   "source": [
    "financial_df = financial_df[~financial_df['id'].isin(bad_ids)]\n",
    "prolong_df = prolong_df[~prolong_df['id'].isin(bad_ids)]"
   ]
  },
  {
   "cell_type": "code",
   "execution_count": null,
   "id": "e9887ecc",
   "metadata": {},
   "outputs": [],
   "source": [
    "# Помечаем отгрузки, где есть \"в ноль\"\n",
    "zero_flags = (financial_df[shipment_cols]\n",
    "              .map(lambda x: str(x).strip().lower() == 'в ноль')\n",
    "              .groupby(financial_df['id'])\n",
    "              .any()) "
   ]
  },
  {
   "cell_type": "code",
   "execution_count": null,
   "id": "d49f5d84",
   "metadata": {},
   "outputs": [],
   "source": [
    "# Функция, преобразовывающая строки в числовой формат\n",
    "def str_to_float(x):\n",
    "    s = str(x).strip().lower()\n",
    "    if s == 'в ноль':\n",
    "        return np.nan\n",
    "    s = s.replace('\\u00A0','').replace('\"', '').replace(' ','').replace(',','.')\n",
    "    try:\n",
    "        return float(s)\n",
    "    except:\n",
    "        return np.nan"
   ]
  },
  {
   "cell_type": "code",
   "execution_count": null,
   "id": "b274f7bd",
   "metadata": {},
   "outputs": [],
   "source": [
    "# Преобразованная в числа информация\n",
    "parsed_financial_df = (financial_df[shipment_cols]\n",
    "                       .map(str_to_float)\n",
    "                       .groupby(financial_df['id'])\n",
    "                       .sum()) "
   ]
  },
  {
   "cell_type": "code",
   "execution_count": null,
   "id": "19807198",
   "metadata": {},
   "outputs": [],
   "source": [
    "# Сбрасываем значения в nan там, где нет других оплат и стоит \"в ноль\"\n",
    "masked = parsed_financial_df.mask((parsed_financial_df == 0) & zero_flags)"
   ]
  },
  {
   "cell_type": "code",
   "execution_count": null,
   "id": "3fff6cc3",
   "metadata": {},
   "outputs": [],
   "source": [
    "# Заполняем сброшенные в nan данные данными за прошлый месяц (в несброшенных данных уже стоит 0 или другая сумма)\n",
    "financial_df_filled = masked.ffill(axis=1).fillna(0.0)"
   ]
  },
  {
   "cell_type": "code",
   "execution_count": 259,
   "id": "fa955ba4",
   "metadata": {},
   "outputs": [],
   "source": [
    "# Объединяем информацию о пролонгациях с финансовыми данными\n",
    "merged_info_df = pd.merge(\n",
    "    prolong_df.rename(columns={'AM': 'Аккаунт-менеджер'}),\n",
    "    financial_df_filled.reset_index(),\n",
    "    on='id',\n",
    "    how='left'\n",
    ").fillna(0.0)"
   ]
  },
  {
   "cell_type": "code",
   "execution_count": 260,
   "id": "855072df",
   "metadata": {},
   "outputs": [],
   "source": [
    "# Карта номера месяца по его названию\n",
    "month_map = {\n",
    "    'Январь': 1,\n",
    "    'Февраль': 2,\n",
    "    'Март': 3,\n",
    "    'Апрель': 4,\n",
    "    'Май': 5,\n",
    "    'Июнь': 6,\n",
    "    'Июль': 7,\n",
    "    'Август': 8,\n",
    "    'Сентябрь': 9,\n",
    "    'Октябрь': 10,\n",
    "    'Ноябрь': 11,\n",
    "    'Декабрь': 12\n",
    "}\n",
    "\n",
    "# Обратная карта для формирования имени месяца по его номеру\n",
    "reverse_month_map = {v: k for k, v in month_map.items()}"
   ]
  },
  {
   "cell_type": "code",
   "execution_count": 261,
   "id": "e3e4c9a3",
   "metadata": {},
   "outputs": [],
   "source": [
    "# Функция, которая для строки вида \"Май 2023\" возвращает предыдущий месяц, например \"Апрель 2023\"\n",
    "def prev_month(month_year_str: str) -> str:    \n",
    "    month, year = month_year_str.split()\n",
    "    month_index = month_map[month]\n",
    "    if month_index == 1:\n",
    "        return f\"{reverse_month_map[12]} {int(year) - 1}\"\n",
    "    return f\"{reverse_month_map[month_index - 1]} {year}\""
   ]
  },
  {
   "cell_type": "code",
   "execution_count": 262,
   "id": "b965c096",
   "metadata": {},
   "outputs": [],
   "source": [
    "# Функция, которая для строки вида \"Май 2023\" возвращает месяц за два шага назад, например \"Март 2023\"\n",
    "def prev_two_months(month_year_str: str) -> str:    \n",
    "    month, year = month_year_str.split()\n",
    "    month_index = month_map[month]\n",
    "    match month_index:\n",
    "        case 1:\n",
    "            return f\"{reverse_month_map[11]} {int(year) - 1}\"\n",
    "        case 2:\n",
    "            return f\"{reverse_month_map[12]} {int(year) - 1}\"\n",
    "        case _:\n",
    "            return f\"{reverse_month_map[month_index - 2]} {int(year)}\"    "
   ]
  },
  {
   "cell_type": "code",
   "execution_count": 263,
   "id": "6e472126",
   "metadata": {},
   "outputs": [],
   "source": [
    "managers = sorted(merged_info_df['Аккаунт-менеджер'].unique().tolist()) + ['Весь отдел']"
   ]
  },
  {
   "cell_type": "code",
   "execution_count": 264,
   "id": "c1ab00a9",
   "metadata": {},
   "outputs": [],
   "source": [
    "months_2023 = [f\"{reverse_month_map[i]} 2023\" for i in range(1, 13)]"
   ]
  },
  {
   "cell_type": "code",
   "execution_count": 265,
   "id": "81e552ea",
   "metadata": {},
   "outputs": [],
   "source": [
    "# Формируем аналитику по месячным коэффициентам пролонгации\n",
    "results = []\n",
    "\n",
    "for mgr in managers:\n",
    "    sub_df = merged_info_df if mgr == 'Весь отдел' else merged_info_df[merged_info_df['Аккаунт-менеджер'] == mgr]\n",
    "    for m in months_2023:\n",
    "        previous_month  = prev_month(m) # предыдущий месяц\n",
    "        month_before_previous = prev_two_months(m) # месяц за два шага назад\n",
    "\n",
    "        # Первомесячная пролонгация\n",
    "        denom1 = sub_df.loc[sub_df['month'] == previous_month, previous_month].sum()\n",
    "        num1 = sub_df.loc[(sub_df['month'] == previous_month) & (sub_df[m] > 0), m].sum()\n",
    "        rate1 = num1 / denom1 if denom1 > 0 else float('nan')\n",
    "\n",
    "        # Второмесячная пролонгация только для тех проектов, которые не пролонгировались в первый месяц\n",
    "        denom2 = sub_df.loc[(sub_df['month'] == month_before_previous) & (sub_df[previous_month] == 0), month_before_previous].sum()\n",
    "        num2 = sub_df.loc[(sub_df['month'] == month_before_previous) & (sub_df[previous_month] == 0) & (sub_df[m] > 0), m].sum()\n",
    "        rate2 = num2 / denom2 if denom2 > 0 else float('nan')\n",
    "\n",
    "        results.append({\n",
    "            'Аккаунт-менеджер': mgr,\n",
    "            'Месяц': m,\n",
    "            'Коэффициент первомесячной пролонгации': rate1,\n",
    "            'Коэффициент второмесячной пролонгации': rate2\n",
    "        })"
   ]
  },
  {
   "cell_type": "code",
   "execution_count": 266,
   "id": "8de99470",
   "metadata": {},
   "outputs": [],
   "source": [
    "monthly_rates_df = pd.DataFrame(results)"
   ]
  },
  {
   "cell_type": "code",
   "execution_count": null,
   "id": "785d98bb",
   "metadata": {},
   "outputs": [],
   "source": [
    "# Формируем аналитику по годовым коэффициентам пролонгации\n",
    "annual_results = []\n",
    "\n",
    "for mgr in managers:\n",
    "    sub_df = merged_info_df if mgr == 'Весь отдел' else merged_info_df[merged_info_df['Аккаунт-менеджер'] == mgr]\n",
    "\n",
    "    # Накопительные суммы по первому и второму месяцам\n",
    "    total_denom1 = 0.0\n",
    "    total_num1 = 0.0\n",
    "    total_denom2 = 0.0\n",
    "    total_num2 = 0.0\n",
    "\n",
    "    for m in months_2023:\n",
    "        previous_month  = prev_month(m)\n",
    "        month_before_previous = prev_two_months(m)\n",
    "\n",
    "        # Знаменатель и числитель для первомесячной пролонгации\n",
    "        denom1 = sub_df.loc[sub_df['month'] == previous_month, previous_month].sum()\n",
    "        num1 = sub_df.loc[(sub_df['month'] == previous_month) & (sub_df[m] > 0), m].sum()\n",
    "\n",
    "        # Для второмесячной\n",
    "        denom2 = sub_df.loc[(sub_df['month'] == month_before_previous) & (sub_df[previous_month] == 0), month_before_previous].sum()\n",
    "        num2 = sub_df.loc[(sub_df['month'] == month_before_previous) & (sub_df[previous_month] == 0) & (sub_df[m] > 0), m].sum()\n",
    "\n",
    "        total_denom1 += denom1\n",
    "        total_num1 += num1\n",
    "        total_denom2 += denom2\n",
    "        total_num2 += num2\n",
    "\n",
    "    annual_first_rate = total_num1 / total_denom1 if total_denom1 > 0 else float('nan')\n",
    "    annual_second_rate = total_num2 / total_denom2  if total_denom2 > 0 else float('nan')\n",
    "\n",
    "    annual_results.append({\n",
    "        'Аккаунт-менеджер': mgr,\n",
    "        'Годовой коэффициент первомесячной пролонгации': annual_first_rate,\n",
    "        'Годовой коэффициент второмесячной пролонгации': annual_second_rate\n",
    "    })\n",
    "\n",
    "annual_rates_df = pd.DataFrame(annual_results)"
   ]
  },
  {
   "cell_type": "code",
   "execution_count": 268,
   "id": "dd2a9dd9",
   "metadata": {},
   "outputs": [],
   "source": [
    "monthly_rates_df.to_csv(\"monthly_rates.csv\")\n",
    "annual_rates_df.to_csv(\"annual_rates.csv\")"
   ]
  }
 ],
 "metadata": {
  "kernelspec": {
   "display_name": "Python 3 (ipykernel)",
   "language": "python",
   "name": "python3"
  },
  "language_info": {
   "codemirror_mode": {
    "name": "ipython",
    "version": 3
   },
   "file_extension": ".py",
   "mimetype": "text/x-python",
   "name": "python",
   "nbconvert_exporter": "python",
   "pygments_lexer": "ipython3",
   "version": "3.9.13"
  }
 },
 "nbformat": 4,
 "nbformat_minor": 5
}
